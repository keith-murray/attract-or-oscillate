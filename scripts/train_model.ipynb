{
 "cells": [
  {
   "cell_type": "markdown",
   "id": "b7f7c990-825f-4802-9ae9-0be640bddc9c",
   "metadata": {},
   "source": [
    "# How do I train the model?\n",
    "Training the model is easy as the code has been made highly modular. Train follows the following pipeline:\n",
    "1. Create the SET datasets.\n",
    "2. Instantiate the RNN model.\n",
    "3. Call the training function.\n",
    "4. Save the model and metrics history."
   ]
  },
  {
   "cell_type": "markdown",
   "id": "5cf85331-521f-48e2-93fd-99a6880d3bb9",
   "metadata": {},
   "source": [
    "## Imports"
   ]
  },
  {
   "cell_type": "code",
   "execution_count": 9,
   "id": "adf6139f-d605-417d-935e-14a54769e987",
   "metadata": {},
   "outputs": [],
   "source": [
    "import jax\n",
    "import jax.numpy as jnp\n",
    "from jax import random\n",
    "from flax import linen as nn\n",
    "from src.task import SETDataset\n",
    "from src.model import EulerCTRNNCell\n",
    "from src.training import create_train_state, train_model\n",
    "\n",
    "key = random.PRNGKey(0)"
   ]
  },
  {
   "cell_type": "markdown",
   "id": "18233f1f-8f9e-4e70-87d9-2d74946559a7",
   "metadata": {},
   "source": [
    "## Create SET datasets"
   ]
  },
  {
   "cell_type": "code",
   "execution_count": 10,
   "id": "d74d62da-99d5-44c7-a611-5bb6640a45bb",
   "metadata": {},
   "outputs": [
    {
     "name": "stdout",
     "output_type": "stream",
     "text": [
      "\n",
      "TRAINING DATA\n",
      "\n",
      "Accepting Grid:\n",
      "SET_combinations | Number of Trials | Status\n",
      "GGG | 60 | \n",
      "GPR | 60 | \n",
      "GRP | 60 | \n",
      "PGR | 60 | \n",
      "PPP | 60 | \n",
      "PRG | 60 | \n",
      "RGP | 60 | \n",
      "RPG | 60 | \n",
      "RRR | 60 | \n",
      "\n",
      "Rejecting Grid:\n",
      "SET_combinations | Number of Trials | Status\n",
      "GGP | 30 | \n",
      "GGR | 30 | \n",
      "GPG | 30 | \n",
      "GPP | 30 | \n",
      "GRG | 30 | \n",
      "GRR | 30 | \n",
      "PGG | 30 | \n",
      "PGP | 30 | \n",
      "PPG | 30 | \n",
      "PPR | 30 | \n",
      "PRP | 30 | \n",
      "PRR | 30 | \n",
      "RGG | 30 | \n",
      "RGR | 30 | \n",
      "RPP | 30 | \n",
      "RPR | 30 | \n",
      "RRG | 30 | \n",
      "RRP | 30 | \n",
      "\n",
      "----------\n",
      "\n",
      "TESTING DATA\n",
      "\n",
      "Accepting Grid:\n",
      "SET_combinations | Number of Trials | Status\n",
      "GGG | 5 | \n",
      "GPR | 5 | \n",
      "GRP | 5 | \n",
      "PGR | 5 | \n",
      "PPP | 5 | \n",
      "PRG | 5 | \n",
      "RGP | 5 | \n",
      "RPG | 5 | \n",
      "RRR | 5 | \n",
      "\n",
      "Rejecting Grid:\n",
      "SET_combinations | Number of Trials | Status\n",
      "GGP | 5 | \n",
      "GGR | 5 | \n",
      "GPG | 5 | \n",
      "GPP | 5 | \n",
      "GRG | 5 | \n",
      "GRR | 5 | \n",
      "PGG | 5 | \n",
      "PGP | 5 | \n",
      "PPG | 5 | \n",
      "PPR | 5 | \n",
      "PRP | 5 | \n",
      "PRR | 5 | \n",
      "RGG | 5 | \n",
      "RGR | 5 | \n",
      "RPP | 5 | \n",
      "RPR | 5 | \n",
      "RRG | 5 | \n",
      "RRP | 5 | \n",
      "\n",
      "----------\n",
      "\n",
      "GROK DATA\n",
      "\n",
      "Accepting Grid:\n",
      "SET_combinations | Number of Trials | Status\n",
      "\n",
      "Rejecting Grid:\n",
      "SET_combinations | Number of Trials | Status\n",
      "\n",
      "----------\n",
      "\n",
      "CORRUPT DATA\n",
      "\n",
      "Accepting Grid:\n",
      "SET_combinations | Number of Trials | Status\n",
      "\n",
      "Rejecting Grid:\n",
      "SET_combinations | Number of Trials | Status\n",
      "\n",
      "\n"
     ]
    }
   ],
   "source": [
    "key, subkey = random.split(key)\n",
    "set_dataset = SETDataset(subkey, 30, 5, 108)\n",
    "#set_dataset.grok_SET(2)\n",
    "#set_dataset.corrupt_SET(3)\n",
    "set_dataset.print_training_testing()\n",
    "training_tf_dataset, testing_tf_dataset, grok_tf_dataset, corrupt_tf_dataset = set_dataset.tf_datasets()"
   ]
  },
  {
   "cell_type": "markdown",
   "id": "b958fd6a-4942-4c3c-b999-3fc567c77499",
   "metadata": {},
   "source": [
    "## Instantiate RNN model"
   ]
  },
  {
   "cell_type": "code",
   "execution_count": 3,
   "id": "6359b06f-f934-4d5e-9fe5-a21e77068a1a",
   "metadata": {},
   "outputs": [],
   "source": [
    "features = 100\n",
    "alpha = jnp.float32(1.0)\n",
    "noise = jnp.float32(0.1)\n",
    "\n",
    "ctrnn = nn.RNN(EulerCTRNNCell(features=features, alpha=alpha, noise=noise,))"
   ]
  },
  {
   "cell_type": "markdown",
   "id": "dd900d9f-9ea5-402f-a939-8404f7cd9383",
   "metadata": {},
   "source": [
    "## Train model"
   ]
  },
  {
   "cell_type": "code",
   "execution_count": 4,
   "id": "f4df3d47-2019-4600-8564-cfde610d7de7",
   "metadata": {},
   "outputs": [],
   "source": [
    "lr = 0.001\n",
    "epochs = 250"
   ]
  },
  {
   "cell_type": "code",
   "execution_count": 5,
   "id": "3efcf0c4-2f15-48a0-9158-e8455f131921",
   "metadata": {},
   "outputs": [],
   "source": [
    "key, subkey = random.split(key)\n",
    "state = create_train_state(ctrnn, subkey, lr,)"
   ]
  },
  {
   "cell_type": "code",
   "execution_count": 6,
   "id": "5bfcd695-7e38-4232-a759-53e37efa3c75",
   "metadata": {},
   "outputs": [
    {
     "name": "stdout",
     "output_type": "stream",
     "text": [
      "Metrics after epoch 50:\n",
      "train_loss: 0.9260943531990051\n",
      "train_accuracy: 0.059259265661239624\n",
      "test_loss: 1.0503238439559937\n",
      "test_accuracy: 0.014814814552664757\n",
      "grok_loss: None\n",
      "grok_accuracy: None\n",
      "corrupt_loss: None\n",
      "corrupt_accuracy: None\n",
      "\n",
      "\n",
      "Metrics after epoch 100:\n",
      "train_loss: 0.006110505200922489\n",
      "train_accuracy: 0.9981481432914734\n",
      "test_loss: 0.03263946622610092\n",
      "test_accuracy: 0.9481481313705444\n",
      "grok_loss: None\n",
      "grok_accuracy: None\n",
      "corrupt_loss: None\n",
      "corrupt_accuracy: None\n",
      "\n",
      "\n",
      "Metrics after epoch 150:\n",
      "train_loss: 0.0028154884930700064\n",
      "train_accuracy: 0.9990741014480591\n",
      "test_loss: 0.002217269502580166\n",
      "test_accuracy: 1.0\n",
      "grok_loss: None\n",
      "grok_accuracy: None\n",
      "corrupt_loss: None\n",
      "corrupt_accuracy: None\n",
      "\n",
      "\n",
      "Metrics after epoch 200:\n",
      "train_loss: 0.0015888254856690764\n",
      "train_accuracy: 1.0\n",
      "test_loss: 0.002964671002700925\n",
      "test_accuracy: 0.9925925731658936\n",
      "grok_loss: None\n",
      "grok_accuracy: None\n",
      "corrupt_loss: None\n",
      "corrupt_accuracy: None\n",
      "\n",
      "\n",
      "Metrics after epoch 250:\n",
      "train_loss: 0.0012388726463541389\n",
      "train_accuracy: 1.0\n",
      "test_loss: 0.0013720192946493626\n",
      "test_accuracy: 1.0\n",
      "grok_loss: None\n",
      "grok_accuracy: None\n",
      "corrupt_loss: None\n",
      "corrupt_accuracy: None\n",
      "\n",
      "\n"
     ]
    }
   ],
   "source": [
    "key, subkey = random.split(key)\n",
    "model_params, metrics_history = train_model(\n",
    "    subkey, \n",
    "    state, \n",
    "    training_tf_dataset, \n",
    "    testing_tf_dataset, \n",
    "    grok_tf_dataset, \n",
    "    corrupt_tf_dataset, \n",
    "    epochs,\n",
    ")"
   ]
  },
  {
   "cell_type": "markdown",
   "id": "0630c66f-a5af-4d3e-9b70-455d48916157",
   "metadata": {},
   "source": [
    "Simple right?"
   ]
  },
  {
   "cell_type": "markdown",
   "id": "7e0fc062-a8e7-4502-b73d-a7de4ba31cbd",
   "metadata": {},
   "source": [
    "## Save model and metrics"
   ]
  },
  {
   "cell_type": "code",
   "execution_count": 7,
   "id": "baffcffe-2ab4-4b76-a176-fa0dbac5d83f",
   "metadata": {},
   "outputs": [],
   "source": [
    "save_loc = '../results/script_examples/params.bin'\n",
    "model_params.serialize(save_loc)"
   ]
  },
  {
   "cell_type": "code",
   "execution_count": 8,
   "id": "c41f5fa0-15f2-4940-a0e0-de67f3047aa1",
   "metadata": {},
   "outputs": [],
   "source": [
    "save_loc = '../results/script_examples/metrics_history.csv'\n",
    "metrics_history.save_to_csv(save_loc)"
   ]
  }
 ],
 "metadata": {
  "kernelspec": {
   "display_name": "Python 3 (ipykernel)",
   "language": "python",
   "name": "python3"
  },
  "language_info": {
   "codemirror_mode": {
    "name": "ipython",
    "version": 3
   },
   "file_extension": ".py",
   "mimetype": "text/x-python",
   "name": "python",
   "nbconvert_exporter": "python",
   "pygments_lexer": "ipython3",
   "version": "3.9.16"
  }
 },
 "nbformat": 4,
 "nbformat_minor": 5
}
