{
 "cells": [
  {
   "cell_type": "markdown",
   "id": "b7f7c990-825f-4802-9ae9-0be640bddc9c",
   "metadata": {},
   "source": [
    "# How do I train the model?\n",
    "Training the model is easy as the code has been made highly modular. Train follows the following pipeline:\n",
    "1. Create the SET datasets.\n",
    "2. Instantiate the RNN model.\n",
    "3. Call the training function.\n",
    "4. Save the model and metrics history."
   ]
  },
  {
   "cell_type": "markdown",
   "id": "5cf85331-521f-48e2-93fd-99a6880d3bb9",
   "metadata": {},
   "source": [
    "## Imports"
   ]
  },
  {
   "cell_type": "code",
   "execution_count": 7,
   "id": "adf6139f-d605-417d-935e-14a54769e987",
   "metadata": {},
   "outputs": [],
   "source": [
    "import jax\n",
    "import jax.numpy as jnp\n",
    "from jax import random\n",
    "from flax import linen as nn\n",
    "from src.task import SETDataset\n",
    "from src.model import EulerCTRNNCell\n",
    "from src.training import create_train_state, train_model, serialize_parameters, deserialize_parameters\n",
    "\n",
    "key = random.PRNGKey(0)"
   ]
  },
  {
   "cell_type": "markdown",
   "id": "18233f1f-8f9e-4e70-87d9-2d74946559a7",
   "metadata": {},
   "source": [
    "## Create SET datasets"
   ]
  },
  {
   "cell_type": "code",
   "execution_count": 8,
   "id": "d74d62da-99d5-44c7-a611-5bb6640a45bb",
   "metadata": {},
   "outputs": [],
   "source": [
    "key, subkey = random.split(key)\n",
    "set_dataset = SETDataset(subkey, 15, 5, 5, 32)\n",
    "training_tf_dataset, testing_tf_dataset, grok_tf_dataset, corrupt_tf_dataset = set_dataset.tf_datasets()"
   ]
  },
  {
   "cell_type": "markdown",
   "id": "b958fd6a-4942-4c3c-b999-3fc567c77499",
   "metadata": {},
   "source": [
    "## Instantiate RNN model"
   ]
  },
  {
   "cell_type": "code",
   "execution_count": 9,
   "id": "6359b06f-f934-4d5e-9fe5-a21e77068a1a",
   "metadata": {},
   "outputs": [],
   "source": [
    "features = 100\n",
    "alpha = jnp.float32(0.1)\n",
    "noise = jnp.float32(0.1)\n",
    "\n",
    "ctrnn = nn.RNN(EulerCTRNNCell(features=features, alpha=alpha, noise=noise,))"
   ]
  },
  {
   "cell_type": "markdown",
   "id": "dd900d9f-9ea5-402f-a939-8404f7cd9383",
   "metadata": {},
   "source": [
    "## Train model"
   ]
  },
  {
   "cell_type": "code",
   "execution_count": 10,
   "id": "f4df3d47-2019-4600-8564-cfde610d7de7",
   "metadata": {},
   "outputs": [],
   "source": [
    "lr = 0.001\n",
    "epochs = 15"
   ]
  },
  {
   "cell_type": "code",
   "execution_count": 11,
   "id": "3efcf0c4-2f15-48a0-9158-e8455f131921",
   "metadata": {},
   "outputs": [],
   "source": [
    "key, subkey = random.split(key)\n",
    "state = create_train_state(ctrnn, subkey, lr,)"
   ]
  },
  {
   "cell_type": "code",
   "execution_count": 12,
   "id": "5bfcd695-7e38-4232-a759-53e37efa3c75",
   "metadata": {},
   "outputs": [
    {
     "name": "stdout",
     "output_type": "stream",
     "text": [
      "Metrics after epoch 1:\n",
      "train_loss: 1.017378807067871\n",
      "train_accuracy: 0.0\n",
      "test_loss: 0.9785944223403931\n",
      "test_accuracy: 0.0\n",
      "grok_loss: None\n",
      "grok_accuracy: None\n",
      "corrupt_loss: None\n",
      "corrupt_accuracy: None\n",
      "Metrics after epoch 2:\n",
      "train_loss: 0.9955981969833374\n",
      "train_accuracy: 0.0\n",
      "test_loss: 1.079990029335022\n",
      "test_accuracy: 0.0\n",
      "grok_loss: None\n",
      "grok_accuracy: None\n",
      "corrupt_loss: None\n",
      "corrupt_accuracy: None\n",
      "Metrics after epoch 3:\n",
      "train_loss: 0.9964108467102051\n",
      "train_accuracy: 0.0\n",
      "test_loss: 0.9241047501564026\n",
      "test_accuracy: 0.0\n",
      "grok_loss: None\n",
      "grok_accuracy: None\n",
      "corrupt_loss: None\n",
      "corrupt_accuracy: None\n",
      "Metrics after epoch 4:\n",
      "train_loss: 1.0010318756103516\n",
      "train_accuracy: 0.0\n",
      "test_loss: 1.0197197198867798\n",
      "test_accuracy: 0.0\n",
      "grok_loss: None\n",
      "grok_accuracy: None\n",
      "corrupt_loss: None\n",
      "corrupt_accuracy: None\n",
      "Metrics after epoch 5:\n",
      "train_loss: 0.9834483861923218\n",
      "train_accuracy: 0.0\n",
      "test_loss: 0.9421354532241821\n",
      "test_accuracy: 0.0\n",
      "grok_loss: None\n",
      "grok_accuracy: None\n",
      "corrupt_loss: None\n",
      "corrupt_accuracy: None\n",
      "Metrics after epoch 6:\n",
      "train_loss: 0.9702368974685669\n",
      "train_accuracy: 0.0\n",
      "test_loss: 0.9871721863746643\n",
      "test_accuracy: 0.0\n",
      "grok_loss: None\n",
      "grok_accuracy: None\n",
      "corrupt_loss: None\n",
      "corrupt_accuracy: None\n",
      "Metrics after epoch 7:\n",
      "train_loss: 0.913549542427063\n",
      "train_accuracy: 0.0\n",
      "test_loss: 0.9102210402488708\n",
      "test_accuracy: 0.007407407276332378\n",
      "grok_loss: None\n",
      "grok_accuracy: None\n",
      "corrupt_loss: None\n",
      "corrupt_accuracy: None\n",
      "Metrics after epoch 8:\n",
      "train_loss: 0.8138261437416077\n",
      "train_accuracy: 0.03125\n",
      "test_loss: 0.7774699926376343\n",
      "test_accuracy: 0.08148147910833359\n",
      "grok_loss: None\n",
      "grok_accuracy: None\n",
      "corrupt_loss: None\n",
      "corrupt_accuracy: None\n",
      "Metrics after epoch 9:\n",
      "train_loss: 0.6863885521888733\n",
      "train_accuracy: 0.158203125\n",
      "test_loss: 0.627129852771759\n",
      "test_accuracy: 0.11851851642131805\n",
      "grok_loss: None\n",
      "grok_accuracy: None\n",
      "corrupt_loss: None\n",
      "corrupt_accuracy: None\n",
      "Metrics after epoch 10:\n",
      "train_loss: 0.5593952536582947\n",
      "train_accuracy: 0.373046875\n",
      "test_loss: 0.45659753680229187\n",
      "test_accuracy: 0.37037035822868347\n",
      "grok_loss: None\n",
      "grok_accuracy: None\n",
      "corrupt_loss: None\n",
      "corrupt_accuracy: None\n",
      "Metrics after epoch 11:\n",
      "train_loss: 0.3724328577518463\n",
      "train_accuracy: 0.5546875\n",
      "test_loss: 0.2883061468601227\n",
      "test_accuracy: 0.6740740537643433\n",
      "grok_loss: None\n",
      "grok_accuracy: None\n",
      "corrupt_loss: None\n",
      "corrupt_accuracy: None\n",
      "Metrics after epoch 12:\n",
      "train_loss: 0.2296208143234253\n",
      "train_accuracy: 0.71484375\n",
      "test_loss: 0.17647093534469604\n",
      "test_accuracy: 0.800000011920929\n",
      "grok_loss: None\n",
      "grok_accuracy: None\n",
      "corrupt_loss: None\n",
      "corrupt_accuracy: None\n",
      "Metrics after epoch 13:\n",
      "train_loss: 0.13308793306350708\n",
      "train_accuracy: 0.876953125\n",
      "test_loss: 0.10118507593870163\n",
      "test_accuracy: 0.940740704536438\n",
      "grok_loss: None\n",
      "grok_accuracy: None\n",
      "corrupt_loss: None\n",
      "corrupt_accuracy: None\n",
      "Metrics after epoch 14:\n",
      "train_loss: 0.071269191801548\n",
      "train_accuracy: 0.978515625\n",
      "test_loss: 0.07447544485330582\n",
      "test_accuracy: 0.9925925731658936\n",
      "grok_loss: None\n",
      "grok_accuracy: None\n",
      "corrupt_loss: None\n",
      "corrupt_accuracy: None\n",
      "Metrics after epoch 15:\n",
      "train_loss: 0.05789846554398537\n",
      "train_accuracy: 0.9765625\n",
      "test_loss: 0.06409068405628204\n",
      "test_accuracy: 0.9851851463317871\n",
      "grok_loss: None\n",
      "grok_accuracy: None\n",
      "corrupt_loss: None\n",
      "corrupt_accuracy: None\n"
     ]
    }
   ],
   "source": [
    "key, subkey = random.split(key)\n",
    "trained_state, metrics_history = train_model(\n",
    "    subkey, \n",
    "    state, \n",
    "    training_tf_dataset, \n",
    "    testing_tf_dataset, \n",
    "    grok_tf_dataset, \n",
    "    corrupt_tf_dataset, \n",
    "    epochs,\n",
    ")"
   ]
  },
  {
   "cell_type": "markdown",
   "id": "0630c66f-a5af-4d3e-9b70-455d48916157",
   "metadata": {},
   "source": [
    "Simple right?"
   ]
  }
 ],
 "metadata": {
  "kernelspec": {
   "display_name": "Python 3 (ipykernel)",
   "language": "python",
   "name": "python3"
  },
  "language_info": {
   "codemirror_mode": {
    "name": "ipython",
    "version": 3
   },
   "file_extension": ".py",
   "mimetype": "text/x-python",
   "name": "python",
   "nbconvert_exporter": "python",
   "pygments_lexer": "ipython3",
   "version": "3.9.16"
  }
 },
 "nbformat": 4,
 "nbformat_minor": 5
}
