{
 "cells": [
  {
   "cell_type": "markdown",
   "id": "e49e0451-83e6-4c9b-ae2d-37efa0eab6d8",
   "metadata": {},
   "source": [
    "# Experiment 5: Extreme attractive parameters\n",
    "The point of this experiment is to test a larger batch size and small norm clipping on the oscillatory phenomenon."
   ]
  },
  {
   "cell_type": "markdown",
   "id": "83179b72-99d0-4ad9-a9d6-6fc28db17149",
   "metadata": {},
   "source": [
    "## Imports"
   ]
  },
  {
   "cell_type": "code",
   "execution_count": 1,
   "id": "74790257-a3ff-441d-9ce3-cf355ed5605d",
   "metadata": {},
   "outputs": [],
   "source": [
    "import json\n",
    "import os"
   ]
  },
  {
   "cell_type": "markdown",
   "id": "372a0efc-7b73-4670-b11c-241bf5ca9eed",
   "metadata": {},
   "source": [
    "## File and JSON generation"
   ]
  },
  {
   "cell_type": "code",
   "execution_count": 2,
   "id": "08852e7e-5b33-467a-bc7e-2bd69f6ef920",
   "metadata": {},
   "outputs": [],
   "source": [
    "job_folder = \"../../../results/experiment_6\""
   ]
  },
  {
   "cell_type": "code",
   "execution_count": 3,
   "id": "ad004252-0193-4903-b96a-497eaa11d563",
   "metadata": {},
   "outputs": [],
   "source": [
    "for task_id in range(96):\n",
    "    task_folder = os.path.join(job_folder, f\"task_{task_id}\")\n",
    "    \n",
    "    os.makedirs(task_folder, exist_ok=True)\n",
    "    \n",
    "    params = {\n",
    "        'seed': task_id,\n",
    "        'alpha': 0.1,\n",
    "        'min_samples': 50,\n",
    "        'norm_clip': 0.25,\n",
    "        'batch_size': 256,\n",
    "        'epochs': 1000,\n",
    "    }\n",
    "    \n",
    "    json_path = os.path.join(task_folder, \"params.json\")\n",
    "    \n",
    "    with open(json_path, 'w') as f:\n",
    "        json.dump(params, f)"
   ]
  },
  {
   "cell_type": "code",
   "execution_count": 4,
   "id": "82d8897c-c062-42f7-9c4f-9d420db9ab8d",
   "metadata": {},
   "outputs": [
    {
     "name": "stdout",
     "output_type": "stream",
     "text": [
      "95\n"
     ]
    }
   ],
   "source": [
    "print(task_id)"
   ]
  }
 ],
 "metadata": {
  "kernelspec": {
   "display_name": "Python 3 (ipykernel)",
   "language": "python",
   "name": "python3"
  },
  "language_info": {
   "codemirror_mode": {
    "name": "ipython",
    "version": 3
   },
   "file_extension": ".py",
   "mimetype": "text/x-python",
   "name": "python",
   "nbconvert_exporter": "python",
   "pygments_lexer": "ipython3",
   "version": "3.9.16"
  }
 },
 "nbformat": 4,
 "nbformat_minor": 5
}
