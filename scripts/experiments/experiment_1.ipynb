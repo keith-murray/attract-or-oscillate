{
 "cells": [
  {
   "cell_type": "markdown",
   "id": "e49e0451-83e6-4c9b-ae2d-37efa0eab6d8",
   "metadata": {},
   "source": [
    "# Experiment 1: Test\n",
    "The point of this experiment is to test my pipeline and its integration with slurm. Maybe some useful results will comeout?"
   ]
  },
  {
   "cell_type": "markdown",
   "id": "83179b72-99d0-4ad9-a9d6-6fc28db17149",
   "metadata": {},
   "source": [
    "## Imports"
   ]
  },
  {
   "cell_type": "code",
   "execution_count": 1,
   "id": "74790257-a3ff-441d-9ce3-cf355ed5605d",
   "metadata": {},
   "outputs": [],
   "source": [
    "import json\n",
    "import os"
   ]
  },
  {
   "cell_type": "markdown",
   "id": "372a0efc-7b73-4670-b11c-241bf5ca9eed",
   "metadata": {},
   "source": [
    "## File and JSON generation"
   ]
  },
  {
   "cell_type": "code",
   "execution_count": 2,
   "id": "ad004252-0193-4903-b96a-497eaa11d563",
   "metadata": {},
   "outputs": [],
   "source": [
    "job_folder = f\"../../results/experiment_1\"\n",
    "task_id = 0\n",
    "\n",
    "for alpha in [0.1, 1.0,]:\n",
    "    for grok in range(4):\n",
    "        for corrupt in range(4):\n",
    "            task_folder = os.path.join(job_folder, f\"task_{task_id}\")\n",
    "\n",
    "            os.makedirs(task_folder, exist_ok=True)\n",
    "            \n",
    "            params = {\n",
    "                'seed': task_id,\n",
    "                'alpha': alpha,\n",
    "                'grok': grok,\n",
    "                'corrupt': corrupt,\n",
    "            }\n",
    "            \n",
    "            json_path = os.path.join(task_folder, \"params.json\")\n",
    "            \n",
    "            with open(json_path, 'w') as f:\n",
    "                json.dump(params, f)\n",
    "\n",
    "            task_id += 1"
   ]
  }
 ],
 "metadata": {
  "kernelspec": {
   "display_name": "Python 3 (ipykernel)",
   "language": "python",
   "name": "python3"
  },
  "language_info": {
   "codemirror_mode": {
    "name": "ipython",
    "version": 3
   },
   "file_extension": ".py",
   "mimetype": "text/x-python",
   "name": "python",
   "nbconvert_exporter": "python",
   "pygments_lexer": "ipython3",
   "version": "3.9.16"
  }
 },
 "nbformat": 4,
 "nbformat_minor": 5
}
