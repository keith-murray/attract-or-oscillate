{
 "cells": [
  {
   "cell_type": "markdown",
   "id": "08a3c328-c0eb-4fc9-b2e4-457452d915d9",
   "metadata": {},
   "source": [
    "# What is SETDataset?\n",
    "The SETDataset is a python class where we create SET data where we can easily grok and corrupt patterns. To \"grok\" a pattern is to remove the pattern from the training set and to \"corrupt\" a pattern is to flip its label. After performing our required gork and corrupt operations, we can easily generate TensorFlow datasets."
   ]
  },
  {
   "cell_type": "markdown",
   "id": "f50b844c-429b-4ad0-8ae5-001d468a3b4b",
   "metadata": {},
   "source": [
    "## Imports"
   ]
  },
  {
   "cell_type": "code",
   "execution_count": 9,
   "id": "8b2024ca-801e-4229-915e-db1320ee0ce1",
   "metadata": {},
   "outputs": [],
   "source": [
    "from jax import random\n",
    "from src.task import SETDataset"
   ]
  },
  {
   "cell_type": "markdown",
   "id": "201c7eb4-168c-41aa-9692-d720e72885d6",
   "metadata": {},
   "source": [
    "## Instantiating SETDataset"
   ]
  },
  {
   "cell_type": "code",
   "execution_count": 10,
   "id": "f0a4100f-c1d7-4a84-994b-23f3f27360ea",
   "metadata": {},
   "outputs": [
    {
     "name": "stdout",
     "output_type": "stream",
     "text": [
      "\n",
      "TESTING DATA\n",
      "\n",
      "Accepting Grid:\n",
      "SET_combinations | Number of Trials | Status\n",
      "GGG | 30 | \n",
      "GPR | 30 | \n",
      "GRP | 30 | \n",
      "PGR | 30 | \n",
      "PPP | 30 | \n",
      "PRG | 30 | \n",
      "RGP | 30 | \n",
      "RPG | 30 | \n",
      "RRR | 30 | \n",
      "\n",
      "Rejecting Grid:\n",
      "SET_combinations | Number of Trials | Status\n",
      "GGP | 15 | \n",
      "GGR | 15 | \n",
      "GPG | 15 | \n",
      "GPP | 15 | \n",
      "GRG | 15 | \n",
      "GRR | 15 | \n",
      "PGG | 15 | \n",
      "PGP | 15 | \n",
      "PPG | 15 | \n",
      "PPR | 15 | \n",
      "PRP | 15 | \n",
      "PRR | 15 | \n",
      "RGG | 15 | \n",
      "RGR | 15 | \n",
      "RPP | 15 | \n",
      "RPR | 15 | \n",
      "RRG | 15 | \n",
      "RRP | 15 | \n",
      "\n",
      "----------\n",
      "\n",
      "TRAINING DATA\n",
      "\n",
      "Accepting Grid:\n",
      "SET_combinations | Number of Trials | Status\n",
      "GGG | 1 | \n",
      "GPR | 1 | \n",
      "GRP | 1 | \n",
      "PGR | 1 | \n",
      "PPP | 1 | \n",
      "PRG | 1 | \n",
      "RGP | 1 | \n",
      "RPG | 1 | \n",
      "RRR | 1 | \n",
      "\n",
      "Rejecting Grid:\n",
      "SET_combinations | Number of Trials | Status\n",
      "GGP | 1 | \n",
      "GGR | 1 | \n",
      "GPG | 1 | \n",
      "GPP | 1 | \n",
      "GRG | 1 | \n",
      "GRR | 1 | \n",
      "PGG | 1 | \n",
      "PGP | 1 | \n",
      "PPG | 1 | \n",
      "PPR | 1 | \n",
      "PRP | 1 | \n",
      "PRR | 1 | \n",
      "RGG | 1 | \n",
      "RGR | 1 | \n",
      "RPP | 1 | \n",
      "RPR | 1 | \n",
      "RRG | 1 | \n",
      "RRP | 1 | \n"
     ]
    }
   ],
   "source": [
    "key = random.PRNGKey(0)\n",
    "set_dataset = SETDataset(key, 30, 15, 108)\n",
    "set_dataset.print_training_testing()"
   ]
  },
  {
   "cell_type": "markdown",
   "id": "0d716bae-1187-4bfa-8c23-207dc8443a15",
   "metadata": {},
   "source": [
    "Above, we can see what a standard single atttribute SET dataset looks like. All the patterns are in their respective accepting and rejecting categories.\n",
    "\n",
    "Below is another method that we can use to view the status of individual SETs."
   ]
  },
  {
   "cell_type": "code",
   "execution_count": 11,
   "id": "2b01d635-5517-4096-9fe5-0d3e206ef7c1",
   "metadata": {},
   "outputs": [
    {
     "name": "stdout",
     "output_type": "stream",
     "text": [
      "Contents SET_dict:\n",
      "SET_combination | Label | Status\n",
      "GGG | 1 | \n",
      "GGP | -1 | \n",
      "GGR | -1 | \n",
      "GPG | -1 | \n",
      "GPP | -1 | \n",
      "GPR | 1 | \n",
      "GRG | -1 | \n",
      "GRP | 1 | \n",
      "GRR | -1 | \n",
      "PGG | -1 | \n",
      "PGP | -1 | \n",
      "PGR | 1 | \n",
      "PPG | -1 | \n",
      "PPP | 1 | \n",
      "PPR | -1 | \n",
      "PRG | 1 | \n",
      "PRP | -1 | \n",
      "PRR | -1 | \n",
      "RGG | -1 | \n",
      "RGP | 1 | \n",
      "RGR | -1 | \n",
      "RPG | 1 | \n",
      "RPP | -1 | \n",
      "RPR | -1 | \n",
      "RRG | -1 | \n",
      "RRP | -1 | \n",
      "RRR | 1 | \n"
     ]
    }
   ],
   "source": [
    "set_dataset.print_SET_dict()"
   ]
  },
  {
   "cell_type": "markdown",
   "id": "65f50af5-98ca-4383-9466-49d1b1406e90",
   "metadata": {},
   "source": [
    "## Grokking and corrupting patterns\n",
    "\n",
    "Let's test how we could grok and corrupt SET patterns."
   ]
  },
  {
   "cell_type": "code",
   "execution_count": 12,
   "id": "ce6a5e8f-6844-44de-b25c-dffd90892471",
   "metadata": {},
   "outputs": [
    {
     "name": "stdout",
     "output_type": "stream",
     "text": [
      "\n",
      "TESTING DATA\n",
      "\n",
      "Accepting Grid:\n",
      "SET_combinations | Number of Trials | Status\n",
      "GPG | 30 | Corrupted\n",
      "PGR | 30 | \n",
      "PRG | 30 | \n",
      "RGP | 30 | \n",
      "RPG | 30 | \n",
      "RRR | 30 | \n",
      "\n",
      "Rejecting Grid:\n",
      "SET_combinations | Number of Trials | Status\n",
      "GGG | 15 | Corrupted\n",
      "GGP | 15 | \n",
      "GGR | 15 | \n",
      "GPP | 15 | \n",
      "GRG | 15 | \n",
      "GRR | 15 | \n",
      "PGG | 15 | \n",
      "PGP | 15 | \n",
      "PPG | 15 | \n",
      "PPP | 15 | Corrupted\n",
      "PPR | 15 | \n",
      "PRP | 15 | \n",
      "PRR | 15 | \n",
      "RGG | 15 | \n",
      "RGR | 15 | \n",
      "RPP | 15 | \n",
      "RPR | 15 | \n",
      "RRG | 15 | \n",
      "RRP | 15 | \n",
      "\n",
      "----------\n",
      "\n",
      "TRAINING DATA\n",
      "\n",
      "Accepting Grid:\n",
      "SET_combinations | Number of Trials | Status\n",
      "GPG | 1 | Corrupted\n",
      "GPR | 1 | Grokked\n",
      "GRP | 1 | Grokked\n",
      "PGR | 1 | \n",
      "PRG | 1 | \n",
      "RGP | 1 | \n",
      "RPG | 1 | \n",
      "RRR | 1 | \n",
      "\n",
      "Rejecting Grid:\n",
      "SET_combinations | Number of Trials | Status\n",
      "GGG | 1 | Corrupted\n",
      "GGP | 1 | \n",
      "GGR | 1 | \n",
      "GPP | 1 | \n",
      "GRG | 1 | \n",
      "GRR | 1 | \n",
      "PGG | 1 | \n",
      "PGP | 1 | \n",
      "PPG | 1 | \n",
      "PPP | 1 | Corrupted\n",
      "PPR | 1 | \n",
      "PRP | 1 | \n",
      "PRR | 1 | \n",
      "RGG | 1 | \n",
      "RGR | 1 | \n",
      "RPP | 1 | \n",
      "RPR | 1 | \n",
      "RRG | 1 | \n",
      "RRP | 1 | \n"
     ]
    }
   ],
   "source": [
    "set_dataset.grok_SET(2)\n",
    "set_dataset.corrupt_SET(3)\n",
    "set_dataset.print_training_testing()"
   ]
  },
  {
   "cell_type": "code",
   "execution_count": 13,
   "id": "cba705df-c96f-48f5-900d-c6048e1f4017",
   "metadata": {},
   "outputs": [
    {
     "name": "stdout",
     "output_type": "stream",
     "text": [
      "Contents SET_dict:\n",
      "SET_combination | Label | Status\n",
      "GGG | -1 | Corrupted\n",
      "GGP | -1 | \n",
      "GGR | -1 | \n",
      "GPG | 1 | Corrupted\n",
      "GPP | -1 | \n",
      "GPR | 1 | Grokked\n",
      "GRG | -1 | \n",
      "GRP | 1 | Grokked\n",
      "GRR | -1 | \n",
      "PGG | -1 | \n",
      "PGP | -1 | \n",
      "PGR | 1 | \n",
      "PPG | -1 | \n",
      "PPP | -1 | Corrupted\n",
      "PPR | -1 | \n",
      "PRG | 1 | \n",
      "PRP | -1 | \n",
      "PRR | -1 | \n",
      "RGG | -1 | \n",
      "RGP | 1 | \n",
      "RGR | -1 | \n",
      "RPG | 1 | \n",
      "RPP | -1 | \n",
      "RPR | -1 | \n",
      "RRG | -1 | \n",
      "RRP | -1 | \n",
      "RRR | 1 | \n"
     ]
    }
   ],
   "source": [
    "set_dataset.print_SET_dict()"
   ]
  },
  {
   "cell_type": "markdown",
   "id": "a855357e-5959-4165-8007-9c8ede82f0e3",
   "metadata": {},
   "source": [
    "As we can see, it's quite easy to grok and corrupt random SET patterns. One issue to keep and eye on might be that accepting SET patterns could be disproportionately altered compared to rejecting patterns. "
   ]
  },
  {
   "cell_type": "markdown",
   "id": "e6dcd73b-3b59-49da-b9cb-5f23cedc7ca8",
   "metadata": {},
   "source": [
    "## Generating TensorFlow datasets"
   ]
  },
  {
   "cell_type": "code",
   "execution_count": 14,
   "id": "5d368521-7880-4b28-8343-a22e21038765",
   "metadata": {},
   "outputs": [],
   "source": [
    "training_tf_dataset, testing_tf_dataset = set_dataset.tf_datasets()"
   ]
  },
  {
   "cell_type": "code",
   "execution_count": 15,
   "id": "d739615f-1614-4576-8335-326d0d6df524",
   "metadata": {},
   "outputs": [
    {
     "name": "stdout",
     "output_type": "stream",
     "text": [
      "Training data in TensorFlow\n",
      "----------\n",
      "(108, 50, 100)\n",
      "(108, 5, 1)\n",
      "----------\n",
      "(108, 50, 100)\n",
      "(108, 5, 1)\n",
      "----------\n",
      "(108, 50, 100)\n",
      "(108, 5, 1)\n",
      "----------\n",
      "(108, 50, 100)\n",
      "(108, 5, 1)\n"
     ]
    }
   ],
   "source": [
    "print('Training data in TensorFlow')\n",
    "for feature, label in training_tf_dataset.as_numpy_iterator():\n",
    "    print('----------')\n",
    "    print(feature.shape)\n",
    "    print(label.shape)"
   ]
  },
  {
   "cell_type": "code",
   "execution_count": 16,
   "id": "0ee9a042-5ece-49d5-8361-c99146715784",
   "metadata": {},
   "outputs": [
    {
     "name": "stdout",
     "output_type": "stream",
     "text": [
      "Testing data in TensorFlow\n",
      "----------\n",
      "(27, 50, 100)\n",
      "(27, 5, 1)\n"
     ]
    }
   ],
   "source": [
    "print('Testing data in TensorFlow')\n",
    "for feature, label in testing_tf_dataset.as_numpy_iterator():\n",
    "    print('----------')\n",
    "    print(feature.shape)\n",
    "    print(label.shape)"
   ]
  },
  {
   "cell_type": "markdown",
   "id": "7e9d2fa8-df1e-4707-93a8-1798327b419d",
   "metadata": {},
   "source": [
    "Pretty easy right?"
   ]
  },
  {
   "cell_type": "code",
   "execution_count": null,
   "id": "a8e39e4d-fb49-43bb-87fd-66dd0545490b",
   "metadata": {},
   "outputs": [],
   "source": []
  }
 ],
 "metadata": {
  "kernelspec": {
   "display_name": "Python 3 (ipykernel)",
   "language": "python",
   "name": "python3"
  },
  "language_info": {
   "codemirror_mode": {
    "name": "ipython",
    "version": 3
   },
   "file_extension": ".py",
   "mimetype": "text/x-python",
   "name": "python",
   "nbconvert_exporter": "python",
   "pygments_lexer": "ipython3",
   "version": "3.9.16"
  }
 },
 "nbformat": 4,
 "nbformat_minor": 5
}
